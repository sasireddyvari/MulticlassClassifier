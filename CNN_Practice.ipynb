{
 "cells": [
  {
   "cell_type": "markdown",
   "metadata": {},
   "source": [
    "# Basic Architecture of CNN"
   ]
  },
  {
   "cell_type": "code",
   "execution_count": 10,
   "metadata": {},
   "outputs": [],
   "source": [
    "from keras.models import Sequential\n",
    "from keras.layers import Conv2D\n",
    "from keras.layers import MaxPooling2D\n",
    "from keras.layers import Flatten\n",
    "from keras.layers import Dense\n",
    "from keras.layers import Dropout"
   ]
  },
  {
   "cell_type": "code",
   "execution_count": 38,
   "metadata": {},
   "outputs": [],
   "source": [
    "classifier=Sequential()\n",
    "classifier.add(Conv2D(32, (3, 3), input_shape = (64, 64, 3), activation = 'relu'))# 32 kernels of 3 * 3 size, Input_shae is of type colourful images . so RGB\n",
    "classifier.add(MaxPooling2D(pool_size=(2,2)))\n",
    "classifier.add(Flatten())\n",
    "classifier.add(Dense(units=128,activation='relu'))\n",
    "classifier.add(Dropout(0.15))\n",
    "classifier.add(Dense(units=5,activation='softmax')) # Multi Class Classification\n",
    "#classifier.add(Dense(units=5,activation='sigmoid'))\n",
    "classifier.compile(optimizer = 'adam', loss = 'categorical_crossentropy' , metrics=['accuracy'])"
   ]
  },
  {
   "cell_type": "code",
   "execution_count": 12,
   "metadata": {},
   "outputs": [
    {
     "name": "stdout",
     "output_type": "stream",
     "text": [
      "Found 216 images belonging to 5 classes.\n",
      "Found 216 images belonging to 5 classes.\n",
      "Epoch 1/2\n",
      "800/800 [==============================] - 308s 385ms/step - loss: 0.1677 - accuracy: 0.9404 - val_loss: 0.0093 - val_accuracy: 1.0000\n",
      "Epoch 2/2\n",
      "800/800 [==============================] - 288s 360ms/step - loss: 0.0122 - accuracy: 0.9972 - val_loss: 0.0025 - val_accuracy: 0.9990\n"
     ]
    }
   ],
   "source": [
    "from keras.preprocessing.image import ImageDataGenerator\n",
    "train_datagen = ImageDataGenerator(rescale=1./255,shear_range = 0.2,zoom_range = 0.2,horizontal_flip = True)\n",
    "test_datagen =ImageDataGenerator(rescale=1./255,shear_range = 0.2,zoom_range = 0.2,horizontal_flip = True)\n",
    "training_set=train_datagen.flow_from_directory(r'D:\\Sasi_pr\\Projects\\CNN_Classifier\\Dataset_Classifier',target_size=(64,64),batch_size=32)\n",
    "testing_set=test_datagen.flow_from_directory(r'D:\\Sasi_pr\\Projects\\CNN_Classifier\\Dataset_Classifier',target_size=(64,64),batch_size=32)\n",
    "model = classifier.fit_generator(training_set,steps_per_epoch=800,epochs=2,validation_data=testing_set,validation_steps=100)"
   ]
  },
  {
   "cell_type": "code",
   "execution_count": 13,
   "metadata": {},
   "outputs": [
    {
     "data": {
      "text/plain": [
       "{'val_loss': [0.00929802842438221, 0.002544076880440116],\n",
       " 'val_accuracy': [1.0, 0.9990285038948059],\n",
       " 'loss': [0.16788231441788845, 0.012336105469959929],\n",
       " 'accuracy': [0.94037586, 0.9971637]}"
      ]
     },
     "execution_count": 13,
     "metadata": {},
     "output_type": "execute_result"
    }
   ],
   "source": [
    "model.history"
   ]
  },
  {
   "cell_type": "code",
   "execution_count": 14,
   "metadata": {},
   "outputs": [
    {
     "name": "stdout",
     "output_type": "stream",
     "text": [
      "Saved to disk\n"
     ]
    }
   ],
   "source": [
    "classifier.save(\"multiClassClassifierCNN_Model.h5\")\n",
    "print(\"Saved to disk\")"
   ]
  },
  {
   "cell_type": "code",
   "execution_count": 41,
   "metadata": {},
   "outputs": [
    {
     "name": "stdout",
     "output_type": "stream",
     "text": [
      "{'BlackPlum': 0, 'Coconut': 1, 'Dhoni': 2, 'Rohith': 3, 'Sasi': 4}\n",
      "[[0. 0. 0. 0. 1.]]\n"
     ]
    }
   ],
   "source": [
    "import numpy as np\n",
    "from keras.preprocessing import image\n",
    "from keras.models import load_model\n",
    "test_image = image.load_img('D:/Sasi_pr/Projects/ss.jpg', target_size = (64, 64))\n",
    "test_image = image.img_to_array(test_image)\n",
    "test_image = np.expand_dims(test_image, axis = 0)\n",
    "model=load_model('multiClassClassifierCNN_Model.h5')\n",
    "result = model.predict(test_image)\n",
    "print(training_set.class_indices)\n",
    "print(result)"
   ]
  },
  {
   "cell_type": "code",
   "execution_count": 40,
   "metadata": {},
   "outputs": [
    {
     "name": "stdout",
     "output_type": "stream",
     "text": [
      "[[0. 0. 0. 0. 1.]]\n",
      "Sasi Kumar\n"
     ]
    }
   ],
   "source": [
    "print(result)\n",
    "if result[0][0] == 1:\n",
    "    prediction = 'BlackPlum Tree'\n",
    "    print(prediction)\n",
    "elif result[0][1] == 1:\n",
    "    prediction = 'Coconut Tree'\n",
    "    print(prediction)\n",
    "elif result[0][2] == 1:\n",
    "    prediction = 'MS Dhoni'\n",
    "    print(prediction)\n",
    "elif result[0][3] == 1:\n",
    "    prediction = 'Rohit Sharma'\n",
    "    print(prediction)\n",
    "elif result[0][4] == 1:\n",
    "    prediction = 'Sasi Kumar'\n",
    "    print(prediction)"
   ]
  },
  {
   "cell_type": "code",
   "execution_count": null,
   "metadata": {},
   "outputs": [],
   "source": []
  }
 ],
 "metadata": {
  "kernelspec": {
   "display_name": "Python 3",
   "language": "python",
   "name": "python3"
  },
  "language_info": {
   "codemirror_mode": {
    "name": "ipython",
    "version": 3
   },
   "file_extension": ".py",
   "mimetype": "text/x-python",
   "name": "python",
   "nbconvert_exporter": "python",
   "pygments_lexer": "ipython3",
   "version": "3.6.12"
  }
 },
 "nbformat": 4,
 "nbformat_minor": 4
}
